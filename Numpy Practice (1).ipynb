{
 "cells": [
  {
   "cell_type": "markdown",
   "id": "e17bea10-f5e0-44a3-8efa-339e5aff3fd8",
   "metadata": {},
   "source": [
    "# Importing Numpy"
   ]
  },
  {
   "cell_type": "code",
   "execution_count": 33,
   "id": "f45c9928-0056-49ff-b0ea-ba744fc08b3d",
   "metadata": {},
   "outputs": [],
   "source": [
    "import numpy as np\n",
    "import pandas as pd"
   ]
  },
  {
   "cell_type": "markdown",
   "id": "8b381bd7-8b8a-4e79-ab2b-4f1c67332277",
   "metadata": {},
   "source": [
    "# loading dataset"
   ]
  },
  {
   "cell_type": "code",
   "execution_count": 35,
   "id": "fd88f8bd-d963-45ba-9c14-04c66679662a",
   "metadata": {},
   "outputs": [],
   "source": [
    "cricket_df = pd.read_csv(\"Indian_Cricket_Team_Dataset.csv\")"
   ]
  },
  {
   "cell_type": "code",
   "execution_count": 36,
   "id": "490d13a5-896d-43d9-ae09-5da74db5df1a",
   "metadata": {},
   "outputs": [
    {
     "data": {
      "text/html": [
       "<div>\n",
       "<style scoped>\n",
       "    .dataframe tbody tr th:only-of-type {\n",
       "        vertical-align: middle;\n",
       "    }\n",
       "\n",
       "    .dataframe tbody tr th {\n",
       "        vertical-align: top;\n",
       "    }\n",
       "\n",
       "    .dataframe thead th {\n",
       "        text-align: right;\n",
       "    }\n",
       "</style>\n",
       "<table border=\"1\" class=\"dataframe\">\n",
       "  <thead>\n",
       "    <tr style=\"text-align: right;\">\n",
       "      <th></th>\n",
       "      <th>Player Name</th>\n",
       "      <th>Age</th>\n",
       "      <th>Matches Played</th>\n",
       "      <th>Batting Average</th>\n",
       "      <th>Strike Rate</th>\n",
       "    </tr>\n",
       "  </thead>\n",
       "  <tbody>\n",
       "    <tr>\n",
       "      <th>0</th>\n",
       "      <td>Player_1</td>\n",
       "      <td>26</td>\n",
       "      <td>456</td>\n",
       "      <td>27.70</td>\n",
       "      <td>188.21</td>\n",
       "    </tr>\n",
       "    <tr>\n",
       "      <th>1</th>\n",
       "      <td>Player_2</td>\n",
       "      <td>23</td>\n",
       "      <td>154</td>\n",
       "      <td>24.61</td>\n",
       "      <td>139.34</td>\n",
       "    </tr>\n",
       "    <tr>\n",
       "      <th>2</th>\n",
       "      <td>Player_3</td>\n",
       "      <td>32</td>\n",
       "      <td>210</td>\n",
       "      <td>36.87</td>\n",
       "      <td>182.79</td>\n",
       "    </tr>\n",
       "    <tr>\n",
       "      <th>3</th>\n",
       "      <td>Player_4</td>\n",
       "      <td>34</td>\n",
       "      <td>426</td>\n",
       "      <td>51.81</td>\n",
       "      <td>178.77</td>\n",
       "    </tr>\n",
       "    <tr>\n",
       "      <th>4</th>\n",
       "      <td>Player_5</td>\n",
       "      <td>30</td>\n",
       "      <td>221</td>\n",
       "      <td>49.80</td>\n",
       "      <td>162.44</td>\n",
       "    </tr>\n",
       "    <tr>\n",
       "      <th>...</th>\n",
       "      <td>...</td>\n",
       "      <td>...</td>\n",
       "      <td>...</td>\n",
       "      <td>...</td>\n",
       "      <td>...</td>\n",
       "    </tr>\n",
       "    <tr>\n",
       "      <th>995</th>\n",
       "      <td>Player_996</td>\n",
       "      <td>24</td>\n",
       "      <td>279</td>\n",
       "      <td>23.46</td>\n",
       "      <td>187.80</td>\n",
       "    </tr>\n",
       "    <tr>\n",
       "      <th>996</th>\n",
       "      <td>Player_997</td>\n",
       "      <td>28</td>\n",
       "      <td>344</td>\n",
       "      <td>29.47</td>\n",
       "      <td>160.55</td>\n",
       "    </tr>\n",
       "    <tr>\n",
       "      <th>997</th>\n",
       "      <td>Player_998</td>\n",
       "      <td>23</td>\n",
       "      <td>126</td>\n",
       "      <td>49.30</td>\n",
       "      <td>124.71</td>\n",
       "    </tr>\n",
       "    <tr>\n",
       "      <th>998</th>\n",
       "      <td>Player_999</td>\n",
       "      <td>35</td>\n",
       "      <td>16</td>\n",
       "      <td>41.93</td>\n",
       "      <td>135.59</td>\n",
       "    </tr>\n",
       "    <tr>\n",
       "      <th>999</th>\n",
       "      <td>Player_1000</td>\n",
       "      <td>30</td>\n",
       "      <td>146</td>\n",
       "      <td>25.12</td>\n",
       "      <td>108.39</td>\n",
       "    </tr>\n",
       "  </tbody>\n",
       "</table>\n",
       "<p>1000 rows × 5 columns</p>\n",
       "</div>"
      ],
      "text/plain": [
       "     Player Name  Age  Matches Played  Batting Average  Strike Rate\n",
       "0       Player_1   26             456            27.70       188.21\n",
       "1       Player_2   23             154            24.61       139.34\n",
       "2       Player_3   32             210            36.87       182.79\n",
       "3       Player_4   34             426            51.81       178.77\n",
       "4       Player_5   30             221            49.80       162.44\n",
       "..           ...  ...             ...              ...          ...\n",
       "995   Player_996   24             279            23.46       187.80\n",
       "996   Player_997   28             344            29.47       160.55\n",
       "997   Player_998   23             126            49.30       124.71\n",
       "998   Player_999   35              16            41.93       135.59\n",
       "999  Player_1000   30             146            25.12       108.39\n",
       "\n",
       "[1000 rows x 5 columns]"
      ]
     },
     "execution_count": 36,
     "metadata": {},
     "output_type": "execute_result"
    }
   ],
   "source": [
    "cricket_df"
   ]
  },
  {
   "cell_type": "markdown",
   "id": "a50a4f1d-6561-4f49-b76d-148702942822",
   "metadata": {},
   "source": [
    "# Query 1: Convert 'Age' column to a NumPy array."
   ]
  },
  {
   "cell_type": "code",
   "execution_count": 38,
   "id": "7d4e9552-df59-4179-b06a-089aede56bea",
   "metadata": {},
   "outputs": [
    {
     "name": "stdout",
     "output_type": "stream",
     "text": [
      "<class 'numpy.ndarray'>\n"
     ]
    }
   ],
   "source": [
    "ages_array = np.array(cricket_df['Age'])\n",
    "print(type(ages_array))"
   ]
  },
  {
   "cell_type": "markdown",
   "id": "1e9136fb-5f88-4c93-98f8-20cafbc88572",
   "metadata": {},
   "source": [
    "# Query 2: Find the average age of players."
   ]
  },
  {
   "cell_type": "code",
   "execution_count": 40,
   "id": "3f4ebaf7-d56b-4c79-895c-a46ab0d71317",
   "metadata": {},
   "outputs": [
    {
     "name": "stdout",
     "output_type": "stream",
     "text": [
      "27.57\n"
     ]
    }
   ],
   "source": [
    "average_age = np.mean(ages_array)\n",
    "print(average_age)"
   ]
  },
  {
   "cell_type": "markdown",
   "id": "aedad985-169e-46ea-a544-816744e6dea7",
   "metadata": {},
   "source": [
    "# Query 3: Find the oldest and youngest player age."
   ]
  },
  {
   "cell_type": "code",
   "execution_count": 42,
   "id": "8b4171d4-de5e-4a79-96a5-ec918fbfa0b1",
   "metadata": {},
   "outputs": [
    {
     "name": "stdout",
     "output_type": "stream",
     "text": [
      "35\n",
      "20\n"
     ]
    }
   ],
   "source": [
    "oldest_age = np.max(ages_array)\n",
    "youngest_age = np.min(ages_array)\n",
    "\n",
    "print(oldest_age)\n",
    "print(youngest_age)"
   ]
  },
  {
   "cell_type": "markdown",
   "id": "879090cc-7f79-4371-973f-ed12aa9e33b1",
   "metadata": {},
   "source": [
    "# Query 4: Count the total number of players above 30 years old."
   ]
  },
  {
   "cell_type": "code",
   "execution_count": 44,
   "id": "371123da-8d0d-47e9-bdb9-af7200b31ba0",
   "metadata": {},
   "outputs": [
    {
     "name": "stdout",
     "output_type": "stream",
     "text": [
      "336\n"
     ]
    }
   ],
   "source": [
    "count_above_30 = np.sum(ages_array > 30)\n",
    "print(count_above_30)"
   ]
  },
  {
   "cell_type": "markdown",
   "id": "b934b2f2-f633-426f-9543-43c0c61c4191",
   "metadata": {},
   "source": [
    "# Query 5: Find the median batting average."
   ]
  },
  {
   "cell_type": "code",
   "execution_count": 46,
   "id": "73b8f9fd-e141-460a-b407-9e803a9e724f",
   "metadata": {},
   "outputs": [
    {
     "name": "stdout",
     "output_type": "stream",
     "text": [
      "40.135\n"
     ]
    }
   ],
   "source": [
    "batting_avg_array = np.array(cricket_df['Batting Average'])\n",
    "median_batting_avg = np.median(batting_avg_array)\n",
    "\n",
    "print(median_batting_avg)"
   ]
  },
  {
   "cell_type": "markdown",
   "id": "e2399880-0b54-4b9b-b133-c0dd8a0b8ce5",
   "metadata": {},
   "source": [
    "# Query 6: Find the standard deviation of strike rates."
   ]
  },
  {
   "cell_type": "code",
   "execution_count": 48,
   "id": "313da79c-f59a-453a-aad4-982f2f149be1",
   "metadata": {},
   "outputs": [
    {
     "name": "stdout",
     "output_type": "stream",
     "text": [
      "29.10819410384471\n"
     ]
    }
   ],
   "source": [
    "strike_rate_array = np.array(cricket_df['Strike Rate'])\n",
    "std_dev_strike_rate = np.std(strike_rate_array)\n",
    "\n",
    "print(std_dev_strike_rate)"
   ]
  },
  {
   "cell_type": "markdown",
   "id": "0b182124-b5a7-4b15-acc2-4cdad83f2e18",
   "metadata": {},
   "source": [
    "# Query 7: Find the 90th percentile of batting average."
   ]
  },
  {
   "cell_type": "markdown",
   "id": "701006b3-0ab0-4781-b8e8-a18b26d544bd",
   "metadata": {},
   "source": [
    "percentile_90 = np.percentile(batting_avg_array, 90)\n",
    "\n",
    "print(percentile_90)"
   ]
  },
  {
   "cell_type": "markdown",
   "id": "eb9d653f-71c6-4e7e-9c55-c0e2b1832d8d",
   "metadata": {},
   "source": [
    "# Query 8: Find the number of players with strike rate above 150."
   ]
  },
  {
   "cell_type": "code",
   "execution_count": 61,
   "id": "d5200708-3413-416e-a562-c04df99b70f4",
   "metadata": {},
   "outputs": [
    {
     "name": "stdout",
     "output_type": "stream",
     "text": [
      "513\n"
     ]
    }
   ],
   "source": [
    "count_high_strike = np.sum(cricket_df['Strike Rate'] > 150)\n",
    "\n",
    "print(count_high_strike)"
   ]
  },
  {
   "cell_type": "markdown",
   "id": "e232c72a-523d-477c-8f05-c4fd411ed7e4",
   "metadata": {},
   "source": [
    "# Query 9: Reshape the first 20 batting averages into a 4x5 matrix."
   ]
  },
  {
   "cell_type": "code",
   "execution_count": 63,
   "id": "31ea0df5-ec4f-4af6-b79a-f5df513345cb",
   "metadata": {},
   "outputs": [
    {
     "name": "stdout",
     "output_type": "stream",
     "text": [
      "[[27.7  24.61 36.87 51.81 49.8 ]\n",
      " [22.2  38.21 40.9  45.78 46.01]\n",
      " [34.59 42.43 39.24 55.4  41.21]\n",
      " [37.64 36.18 42.9  52.16 41.54]]\n"
     ]
    }
   ],
   "source": [
    "reshaped_avg = batting_avg_array[:20].reshape(4,5)\n",
    "print(reshaped_avg)"
   ]
  },
  {
   "cell_type": "markdown",
   "id": "b12ec531-6e8a-4b2d-9fd4-ce5361a34f0d",
   "metadata": {},
   "source": [
    "# Query 10: Compute row-wise sum of reshaped matrix."
   ]
  },
  {
   "cell_type": "code",
   "execution_count": 65,
   "id": "b4f1ba03-84b8-40a1-88a1-ee3170b40c59",
   "metadata": {},
   "outputs": [
    {
     "name": "stdout",
     "output_type": "stream",
     "text": [
      "[190.79 193.1  212.87 210.42]\n"
     ]
    }
   ],
   "source": [
    "row_wise_sum = np.sum(reshaped_avg, axis=1)\n",
    "print(row_wise_sum)"
   ]
  },
  {
   "cell_type": "markdown",
   "id": "cb1de9dc-a9dd-4e37-9fd0-48b0eddaa049",
   "metadata": {},
   "source": [
    "# Query 11: Compute column-wise mean of reshaped matrix."
   ]
  },
  {
   "cell_type": "code",
   "execution_count": 67,
   "id": "dd4d8e4c-6471-4e52-913d-6811fca6a495",
   "metadata": {},
   "outputs": [
    {
     "name": "stdout",
     "output_type": "stream",
     "text": [
      "[30.5325 35.3575 39.9775 51.2875 44.64  ]\n"
     ]
    }
   ],
   "source": [
    "col_wise_mean = np.mean(reshaped_avg, axis=0)\n",
    "print(col_wise_mean)"
   ]
  },
  {
   "cell_type": "markdown",
   "id": "b1b4cf58-e306-4fe7-af2b-7ebda2cc7112",
   "metadata": {},
   "source": [
    "# Query 12: Transpose the reshaped matrix."
   ]
  },
  {
   "cell_type": "code",
   "execution_count": 69,
   "id": "6650b68e-4897-4805-9574-6009c5915d17",
   "metadata": {},
   "outputs": [
    {
     "name": "stdout",
     "output_type": "stream",
     "text": [
      "[[27.7  22.2  34.59 37.64]\n",
      " [24.61 38.21 42.43 36.18]\n",
      " [36.87 40.9  39.24 42.9 ]\n",
      " [51.81 45.78 55.4  52.16]\n",
      " [49.8  46.01 41.21 41.54]]\n"
     ]
    }
   ],
   "source": [
    "transposed_avg = reshaped_avg.T\n",
    "print(transposed_avg)"
   ]
  },
  {
   "cell_type": "markdown",
   "id": "612a9915-7baf-4756-be8b-01a50ac84871",
   "metadata": {},
   "source": [
    "# Query 13: Find the variance of batting average."
   ]
  },
  {
   "cell_type": "code",
   "execution_count": 71,
   "id": "e56e73f4-f263-46cd-8402-302c39d706ea",
   "metadata": {},
   "outputs": [
    {
     "name": "stdout",
     "output_type": "stream",
     "text": [
      "131.5398293159\n"
     ]
    }
   ],
   "source": [
    "variance_batting_avg = np.var(batting_avg_array)\n",
    "\n",
    "print(variance_batting_avg)"
   ]
  },
  {
   "cell_type": "markdown",
   "id": "b99262ad-1954-4ba9-a208-1e56e3f19637",
   "metadata": {},
   "source": [
    "# Query 14: Stack age and matches played horizontally."
   ]
  },
  {
   "cell_type": "code",
   "execution_count": 73,
   "id": "56b4a772-20ec-4c67-b005-7ea699f5830e",
   "metadata": {},
   "outputs": [
    {
     "ename": "NameError",
     "evalue": "name 'matches_array' is not defined",
     "output_type": "error",
     "traceback": [
      "\u001b[1;31m---------------------------------------------------------------------------\u001b[0m",
      "\u001b[1;31mNameError\u001b[0m                                 Traceback (most recent call last)",
      "Cell \u001b[1;32mIn[73], line 1\u001b[0m\n\u001b[1;32m----> 1\u001b[0m stacked_array \u001b[38;5;241m=\u001b[39m np\u001b[38;5;241m.\u001b[39mhstack((ages_array\u001b[38;5;241m.\u001b[39mreshape(\u001b[38;5;241m-\u001b[39m\u001b[38;5;241m1\u001b[39m,\u001b[38;5;241m1\u001b[39m), matches_array\u001b[38;5;241m.\u001b[39mreshape(\u001b[38;5;241m-\u001b[39m\u001b[38;5;241m1\u001b[39m,\u001b[38;5;241m1\u001b[39m)))\n\u001b[0;32m      3\u001b[0m \u001b[38;5;28mprint\u001b[39m(stacked_array)\n",
      "\u001b[1;31mNameError\u001b[0m: name 'matches_array' is not defined"
     ]
    }
   ],
   "source": [
    "matches_array = np.\n",
    "stacked_array = np.hstack((ages_array.reshape(-1,1), matches_array.reshape(-1,1)))\n",
    "\n",
    "print(stacked_array)"
   ]
  },
  {
   "cell_type": "markdown",
   "id": "b8b4f7ee-ef16-4dce-9917-ce1e61a8dfca",
   "metadata": {},
   "source": [
    "# Query 15: Split the batting average array into 100 equal parts."
   ]
  },
  {
   "cell_type": "code",
   "execution_count": null,
   "id": "c147defe-da36-49cd-a162-33389f4ac7be",
   "metadata": {},
   "outputs": [],
   "source": [
    "split_avg = np.array_split(batting_avg_array, 100)\n",
    "print(split_avg)"
   ]
  },
  {
   "cell_type": "code",
   "execution_count": null,
   "id": "ea79a1b8-4a64-436b-9aa3-7fcf05dfd07b",
   "metadata": {},
   "outputs": [],
   "source": []
  }
 ],
 "metadata": {
  "kernelspec": {
   "display_name": "Python 3 (ipykernel)",
   "language": "python",
   "name": "python3"
  },
  "language_info": {
   "codemirror_mode": {
    "name": "ipython",
    "version": 3
   },
   "file_extension": ".py",
   "mimetype": "text/x-python",
   "name": "python",
   "nbconvert_exporter": "python",
   "pygments_lexer": "ipython3",
   "version": "3.12.7"
  }
 },
 "nbformat": 4,
 "nbformat_minor": 5
}
